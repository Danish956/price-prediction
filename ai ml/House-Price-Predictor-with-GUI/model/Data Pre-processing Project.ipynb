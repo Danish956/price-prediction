{
 "cells": [
  {
   "cell_type": "markdown",
   "metadata": {
    "colab_type": "text",
    "id": "7XKECuuOb2gN"
   },
   "source": [
    "# Housing Price Prediction"
   ]
  },
  {
   "cell_type": "code",
   "execution_count": 1,
   "metadata": {
    "colab": {},
    "colab_type": "code",
    "executionInfo": {
     "elapsed": 1885,
     "status": "ok",
     "timestamp": 1592370767549,
     "user": {
      "displayName": "Sharoon Saxena",
      "photoUrl": "https://lh3.googleusercontent.com/a-/AOh14GjyKz9rNCPkHi6QK8TjrjBFlTtaI9ngf0hIwgAl=s64",
      "userId": "01167841530696023488"
     },
     "user_tz": -330
    },
    "id": "CEzh4N2IyxfG"
   },
   "outputs": [],
   "source": [
    "#importing libraries\n",
    "import numpy as np\n",
    "import pandas as pd\n",
    "import matplotlib.pyplot as plt\n",
    "import warnings\n",
    "warnings.filterwarnings('ignore')"
   ]
  },
  {
   "cell_type": "code",
   "execution_count": 2,
   "metadata": {
    "colab": {
     "base_uri": "https://localhost:8080/",
     "height": 496
    },
    "colab_type": "code",
    "executionInfo": {
     "elapsed": 3079,
     "status": "ok",
     "timestamp": 1592370768754,
     "user": {
      "displayName": "Sharoon Saxena",
      "photoUrl": "https://lh3.googleusercontent.com/a-/AOh14GjyKz9rNCPkHi6QK8TjrjBFlTtaI9ngf0hIwgAl=s64",
      "userId": "01167841530696023488"
     },
     "user_tz": -330
    },
    "id": "kzt4iPvvzUGU",
    "outputId": "eca50793-6692-4c67-8310-11cf9df50f99"
   },
   "outputs": [
    {
     "data": {
      "text/html": [
       "<div>\n",
       "<style scoped>\n",
       "    .dataframe tbody tr th:only-of-type {\n",
       "        vertical-align: middle;\n",
       "    }\n",
       "\n",
       "    .dataframe tbody tr th {\n",
       "        vertical-align: top;\n",
       "    }\n",
       "\n",
       "    .dataframe thead th {\n",
       "        text-align: right;\n",
       "    }\n",
       "</style>\n",
       "<table border=\"1\" class=\"dataframe\">\n",
       "  <thead>\n",
       "    <tr style=\"text-align: right;\">\n",
       "      <th></th>\n",
       "      <th>ID</th>\n",
       "      <th>Date House was Sold</th>\n",
       "      <th>Sale Price</th>\n",
       "      <th>No of Bedrooms</th>\n",
       "      <th>No of Bathrooms</th>\n",
       "      <th>Flat Area (in Sqft)</th>\n",
       "      <th>Lot Area (in Sqft)</th>\n",
       "      <th>No of Floors</th>\n",
       "      <th>Waterfront View</th>\n",
       "      <th>No of Times Visited</th>\n",
       "      <th>...</th>\n",
       "      <th>Overall Grade</th>\n",
       "      <th>Area of the House from Basement (in Sqft)</th>\n",
       "      <th>Basement Area (in Sqft)</th>\n",
       "      <th>Age of House (in Years)</th>\n",
       "      <th>Renovated Year</th>\n",
       "      <th>Zipcode</th>\n",
       "      <th>Latitude</th>\n",
       "      <th>Longitude</th>\n",
       "      <th>Living Area after Renovation (in Sqft)</th>\n",
       "      <th>Lot Area after Renovation (in Sqft)</th>\n",
       "    </tr>\n",
       "  </thead>\n",
       "  <tbody>\n",
       "    <tr>\n",
       "      <th>0</th>\n",
       "      <td>7129300520</td>\n",
       "      <td>14 October 2017</td>\n",
       "      <td>221900.0</td>\n",
       "      <td>3</td>\n",
       "      <td>1.00</td>\n",
       "      <td>1180.0</td>\n",
       "      <td>5650.0</td>\n",
       "      <td>1.0</td>\n",
       "      <td>No</td>\n",
       "      <td>None</td>\n",
       "      <td>...</td>\n",
       "      <td>7</td>\n",
       "      <td>1180.0</td>\n",
       "      <td>0</td>\n",
       "      <td>63</td>\n",
       "      <td>0</td>\n",
       "      <td>98178.0</td>\n",
       "      <td>47.5112</td>\n",
       "      <td>-122.257</td>\n",
       "      <td>1340.0</td>\n",
       "      <td>5650</td>\n",
       "    </tr>\n",
       "    <tr>\n",
       "      <th>1</th>\n",
       "      <td>6414100192</td>\n",
       "      <td>14 December 2017</td>\n",
       "      <td>538000.0</td>\n",
       "      <td>3</td>\n",
       "      <td>2.25</td>\n",
       "      <td>2570.0</td>\n",
       "      <td>7242.0</td>\n",
       "      <td>2.0</td>\n",
       "      <td>No</td>\n",
       "      <td>None</td>\n",
       "      <td>...</td>\n",
       "      <td>7</td>\n",
       "      <td>2170.0</td>\n",
       "      <td>400</td>\n",
       "      <td>67</td>\n",
       "      <td>1991</td>\n",
       "      <td>98125.0</td>\n",
       "      <td>47.7210</td>\n",
       "      <td>-122.319</td>\n",
       "      <td>1690.0</td>\n",
       "      <td>7639</td>\n",
       "    </tr>\n",
       "    <tr>\n",
       "      <th>2</th>\n",
       "      <td>5631500400</td>\n",
       "      <td>15 February 2016</td>\n",
       "      <td>180000.0</td>\n",
       "      <td>2</td>\n",
       "      <td>1.00</td>\n",
       "      <td>770.0</td>\n",
       "      <td>10000.0</td>\n",
       "      <td>1.0</td>\n",
       "      <td>No</td>\n",
       "      <td>None</td>\n",
       "      <td>...</td>\n",
       "      <td>6</td>\n",
       "      <td>770.0</td>\n",
       "      <td>0</td>\n",
       "      <td>85</td>\n",
       "      <td>0</td>\n",
       "      <td>98028.0</td>\n",
       "      <td>47.7379</td>\n",
       "      <td>-122.233</td>\n",
       "      <td>2720.0</td>\n",
       "      <td>8062</td>\n",
       "    </tr>\n",
       "    <tr>\n",
       "      <th>3</th>\n",
       "      <td>2487200875</td>\n",
       "      <td>14 December 2017</td>\n",
       "      <td>604000.0</td>\n",
       "      <td>4</td>\n",
       "      <td>3.00</td>\n",
       "      <td>1960.0</td>\n",
       "      <td>5000.0</td>\n",
       "      <td>1.0</td>\n",
       "      <td>No</td>\n",
       "      <td>None</td>\n",
       "      <td>...</td>\n",
       "      <td>7</td>\n",
       "      <td>1050.0</td>\n",
       "      <td>910</td>\n",
       "      <td>53</td>\n",
       "      <td>0</td>\n",
       "      <td>98136.0</td>\n",
       "      <td>47.5208</td>\n",
       "      <td>-122.393</td>\n",
       "      <td>1360.0</td>\n",
       "      <td>5000</td>\n",
       "    </tr>\n",
       "    <tr>\n",
       "      <th>4</th>\n",
       "      <td>1954400510</td>\n",
       "      <td>15 February 2016</td>\n",
       "      <td>510000.0</td>\n",
       "      <td>3</td>\n",
       "      <td>2.00</td>\n",
       "      <td>1680.0</td>\n",
       "      <td>8080.0</td>\n",
       "      <td>1.0</td>\n",
       "      <td>No</td>\n",
       "      <td>None</td>\n",
       "      <td>...</td>\n",
       "      <td>8</td>\n",
       "      <td>1680.0</td>\n",
       "      <td>0</td>\n",
       "      <td>31</td>\n",
       "      <td>0</td>\n",
       "      <td>98074.0</td>\n",
       "      <td>47.6168</td>\n",
       "      <td>-122.045</td>\n",
       "      <td>1800.0</td>\n",
       "      <td>7503</td>\n",
       "    </tr>\n",
       "  </tbody>\n",
       "</table>\n",
       "<p>5 rows × 21 columns</p>\n",
       "</div>"
      ],
      "text/plain": [
       "           ID Date House was Sold  Sale Price  No of Bedrooms  \\\n",
       "0  7129300520     14 October 2017    221900.0               3   \n",
       "1  6414100192    14 December 2017    538000.0               3   \n",
       "2  5631500400    15 February 2016    180000.0               2   \n",
       "3  2487200875    14 December 2017    604000.0               4   \n",
       "4  1954400510    15 February 2016    510000.0               3   \n",
       "\n",
       "   No of Bathrooms  Flat Area (in Sqft)  Lot Area (in Sqft)  No of Floors  \\\n",
       "0             1.00               1180.0              5650.0           1.0   \n",
       "1             2.25               2570.0              7242.0           2.0   \n",
       "2             1.00                770.0             10000.0           1.0   \n",
       "3             3.00               1960.0              5000.0           1.0   \n",
       "4             2.00               1680.0              8080.0           1.0   \n",
       "\n",
       "  Waterfront View No of Times Visited  ... Overall Grade  \\\n",
       "0              No                None  ...             7   \n",
       "1              No                None  ...             7   \n",
       "2              No                None  ...             6   \n",
       "3              No                None  ...             7   \n",
       "4              No                None  ...             8   \n",
       "\n",
       "   Area of the House from Basement (in Sqft)  Basement Area (in Sqft)  \\\n",
       "0                                     1180.0                        0   \n",
       "1                                     2170.0                      400   \n",
       "2                                      770.0                        0   \n",
       "3                                     1050.0                      910   \n",
       "4                                     1680.0                        0   \n",
       "\n",
       "   Age of House (in Years)  Renovated Year  Zipcode  Latitude  Longitude  \\\n",
       "0                       63               0  98178.0   47.5112   -122.257   \n",
       "1                       67            1991  98125.0   47.7210   -122.319   \n",
       "2                       85               0  98028.0   47.7379   -122.233   \n",
       "3                       53               0  98136.0   47.5208   -122.393   \n",
       "4                       31               0  98074.0   47.6168   -122.045   \n",
       "\n",
       "   Living Area after Renovation (in Sqft)  Lot Area after Renovation (in Sqft)  \n",
       "0                                  1340.0                                 5650  \n",
       "1                                  1690.0                                 7639  \n",
       "2                                  2720.0                                 8062  \n",
       "3                                  1360.0                                 5000  \n",
       "4                                  1800.0                                 7503  \n",
       "\n",
       "[5 rows x 21 columns]"
      ]
     },
     "execution_count": 2,
     "metadata": {},
     "output_type": "execute_result"
    }
   ],
   "source": [
    "#importing data\n",
    "data = pd.read_csv('Raw_Housing_Prices.csv')\n",
    "data.head()"
   ]
  },
  {
   "cell_type": "code",
   "execution_count": 3,
   "metadata": {
    "colab": {
     "base_uri": "https://localhost:8080/",
     "height": 170
    },
    "colab_type": "code",
    "executionInfo": {
     "elapsed": 3069,
     "status": "ok",
     "timestamp": 1592370768755,
     "user": {
      "displayName": "Sharoon Saxena",
      "photoUrl": "https://lh3.googleusercontent.com/a-/AOh14GjyKz9rNCPkHi6QK8TjrjBFlTtaI9ngf0hIwgAl=s64",
      "userId": "01167841530696023488"
     },
     "user_tz": -330
    },
    "id": "JXAZHNFlzikf",
    "outputId": "f0eaf5d7-b62b-44f1-a36d-4f4982ac1ed5"
   },
   "outputs": [
    {
     "data": {
      "text/plain": [
       "count    2.160900e+04\n",
       "mean     5.401984e+05\n",
       "std      3.673890e+05\n",
       "min      7.500000e+04\n",
       "25%      3.219500e+05\n",
       "50%      4.500000e+05\n",
       "75%      6.450000e+05\n",
       "max      7.700000e+06\n",
       "Name: Sale Price, dtype: float64"
      ]
     },
     "execution_count": 3,
     "metadata": {},
     "output_type": "execute_result"
    }
   ],
   "source": [
    "data['Sale Price'].describe()"
   ]
  },
  {
   "cell_type": "code",
   "execution_count": 4,
   "metadata": {
    "colab": {
     "base_uri": "https://localhost:8080/",
     "height": 295
    },
    "colab_type": "code",
    "executionInfo": {
     "elapsed": 3062,
     "status": "ok",
     "timestamp": 1592370768756,
     "user": {
      "displayName": "Sharoon Saxena",
      "photoUrl": "https://lh3.googleusercontent.com/a-/AOh14GjyKz9rNCPkHi6QK8TjrjBFlTtaI9ngf0hIwgAl=s64",
      "userId": "01167841530696023488"
     },
     "user_tz": -330
    },
    "id": "qOLiX47REyVj",
    "outputId": "f39accb3-d824-4ef5-bc99-eff800c7cb51"
   },
   "outputs": [
    {
     "data": {
      "text/plain": [
       "<AxesSubplot:ylabel='Frequency'>"
      ]
     },
     "execution_count": 4,
     "metadata": {},
     "output_type": "execute_result"
    },
    {
     "data": {
      "image/png": "[encoded data removed]",
      "text/plain": [
       "<Figure size 432x288 with 1 Axes>"
      ]
     },
     "metadata": {
      "needs_background": "light"
     },
     "output_type": "display_data"
    }
   ],
   "source": [
    "#distribution of target variable\n",
    "data['Sale Price'].plot.hist()"
   ]
  },
  {
   "cell_type": "code",
   "execution_count": 5,
   "metadata": {
    "colab": {
     "base_uri": "https://localhost:8080/",
     "height": 34
    },
    "colab_type": "code",
    "executionInfo": {
     "elapsed": 3055,
     "status": "ok",
     "timestamp": 1592370768757,
     "user": {
      "displayName": "Sharoon Saxena",
      "photoUrl": "https://lh3.googleusercontent.com/a-/AOh14GjyKz9rNCPkHi6QK8TjrjBFlTtaI9ngf0hIwgAl=s64",
      "userId": "01167841530696023488"
     },
     "user_tz": -330
    },
    "id": "Xs8WBt5FzxAI",
    "outputId": "2023fb7e-337f-4ce3-ee34-823fdb6f95a5"
   },
   "outputs": [
    {
     "data": {
      "text/plain": [
       "(321950.0, 645000.0)"
      ]
     },
     "execution_count": 5,
     "metadata": {},
     "output_type": "execute_result"
    }
   ],
   "source": [
    "# checking quantiles\n",
    "q1 = data['Sale Price'].quantile(0.25)\n",
    "q3 = data['Sale Price'].quantile(0.75)\n",
    "q1, q3"
   ]
  },
  {
   "cell_type": "code",
   "execution_count": 6,
   "metadata": {
    "colab": {
     "base_uri": "https://localhost:8080/",
     "height": 34
    },
    "colab_type": "code",
    "executionInfo": {
     "elapsed": 3046,
     "status": "ok",
     "timestamp": 1592370768758,
     "user": {
      "displayName": "Sharoon Saxena",
      "photoUrl": "https://lh3.googleusercontent.com/a-/AOh14GjyKz9rNCPkHi6QK8TjrjBFlTtaI9ngf0hIwgAl=s64",
      "userId": "01167841530696023488"
     },
     "user_tz": -330
    },
    "id": "xFiUJRAY0TWF",
    "outputId": "8204faf3-5c8a-41e4-d66f-831e3df202ee"
   },
   "outputs": [
    {
     "data": {
      "text/plain": [
       "323050.0"
      ]
     },
     "execution_count": 6,
     "metadata": {},
     "output_type": "execute_result"
    }
   ],
   "source": [
    "#calculating iqr\n",
    "iqr = q3 - q1\n",
    "iqr"
   ]
  },
  {
   "cell_type": "code",
   "execution_count": 7,
   "metadata": {
    "colab": {
     "base_uri": "https://localhost:8080/",
     "height": 34
    },
    "colab_type": "code",
    "executionInfo": {
     "elapsed": 3035,
     "status": "ok",
     "timestamp": 1592370768759,
     "user": {
      "displayName": "Sharoon Saxena",
      "photoUrl": "https://lh3.googleusercontent.com/a-/AOh14GjyKz9rNCPkHi6QK8TjrjBFlTtaI9ngf0hIwgAl=s64",
      "userId": "01167841530696023488"
     },
     "user_tz": -330
    },
    "id": "NQGl_iRf3C1q",
    "outputId": "69c6afc6-6ea7-4687-86a4-fb3c06504a85"
   },
   "outputs": [
    {
     "data": {
      "text/plain": [
       "(1129575.0, -162625.0)"
      ]
     },
     "execution_count": 7,
     "metadata": {},
     "output_type": "execute_result"
    }
   ],
   "source": [
    "upper_limit = q3 + 1.5*iqr\n",
    "lower_limit = q1 - 1.5*iqr\n",
    "upper_limit, lower_limit"
   ]
  },
  {
   "cell_type": "code",
   "execution_count": 8,
   "metadata": {
    "colab": {},
    "colab_type": "code",
    "executionInfo": {
     "elapsed": 3027,
     "status": "ok",
     "timestamp": 1592370768760,
     "user": {
      "displayName": "Sharoon Saxena",
      "photoUrl": "https://lh3.googleusercontent.com/a-/AOh14GjyKz9rNCPkHi6QK8TjrjBFlTtaI9ngf0hIwgAl=s64",
      "userId": "01167841530696023488"
     },
     "user_tz": -330
    },
    "id": "mmjlfDJV3Zgy"
   },
   "outputs": [],
   "source": [
    "# imputing outliers\n",
    "def limit_imputer(value):\n",
    "  if value > upper_limit:\n",
    "    return upper_limit\n",
    "  if value < lower_limit:\n",
    "    return lower_limit\n",
    "  else:\n",
    "    return value"
   ]
  },
  {
   "cell_type": "code",
   "execution_count": 9,
   "metadata": {
    "colab": {},
    "colab_type": "code",
    "executionInfo": {
     "elapsed": 3024,
     "status": "ok",
     "timestamp": 1592370768762,
     "user": {
      "displayName": "Sharoon Saxena",
      "photoUrl": "https://lh3.googleusercontent.com/a-/AOh14GjyKz9rNCPkHi6QK8TjrjBFlTtaI9ngf0hIwgAl=s64",
      "userId": "01167841530696023488"
     },
     "user_tz": -330
    },
    "id": "9gOK9l_J4OfO"
   },
   "outputs": [],
   "source": [
    "data['Sale Price'] = data['Sale Price'].apply(limit_imputer)"
   ]
  },
  {
   "cell_type": "code",
   "execution_count": 10,
   "metadata": {
    "colab": {
     "base_uri": "https://localhost:8080/",
     "height": 170
    },
    "colab_type": "code",
    "executionInfo": {
     "elapsed": 3020,
     "status": "ok",
     "timestamp": 1592370768763,
     "user": {
      "displayName": "Sharoon Saxena",
      "photoUrl": "https://lh3.googleusercontent.com/a-/AOh14GjyKz9rNCPkHi6QK8TjrjBFlTtaI9ngf0hIwgAl=s64",
      "userId": "01167841530696023488"
     },
     "user_tz": -330
    },
    "id": "5XtPi_2j4g68",
    "outputId": "e83b1885-a2c3-4e45-f7fe-5f8663d57586"
   },
   "outputs": [
    {
     "data": {
      "text/plain": [
       "count    2.160900e+04\n",
       "mean     5.116186e+05\n",
       "std      2.500620e+05\n",
       "min      7.500000e+04\n",
       "25%      3.219500e+05\n",
       "50%      4.500000e+05\n",
       "75%      6.450000e+05\n",
       "max      1.129575e+06\n",
       "Name: Sale Price, dtype: float64"
      ]
     },
     "execution_count": 10,
     "metadata": {},
     "output_type": "execute_result"
    }
   ],
   "source": [
    "data['Sale Price'].describe()"
   ]
  },
  {
   "cell_type": "code",
   "execution_count": 11,
   "metadata": {
    "colab": {
     "base_uri": "https://localhost:8080/",
     "height": 295
    },
    "colab_type": "code",
    "executionInfo": {
     "elapsed": 4060,
     "status": "ok",
     "timestamp": 1592370769813,
     "user": {
      "displayName": "Sharoon Saxena",
      "photoUrl": "https://lh3.googleusercontent.com/a-/AOh14GjyKz9rNCPkHi6QK8TjrjBFlTtaI9ngf0hIwgAl=s64",
      "userId": "01167841530696023488"
     },
     "user_tz": -330
    },
    "id": "AB0UWP775DsP",
    "outputId": "2640db6d-28af-46b8-abfd-6ef86658ebcb"
   },
   "outputs": [
    {
     "data": {
      "text/plain": [
       "<AxesSubplot:ylabel='Frequency'>"
      ]
     },
     "execution_count": 11,
     "metadata": {},
     "output_type": "execute_result"
    },
    {
     "data": {
      "image/png": "[encoded data removed]",
      "text/plain": [
       "<Figure size 432x288 with 1 Axes>"
      ]
     },
     "metadata": {
      "needs_background": "light"
     },
     "output_type": "display_data"
    }
   ],
   "source": [
    "data['Sale Price'].plot.hist()"
   ]
  },
  {
   "cell_type": "code",
   "execution_count": 12,
   "metadata": {
    "colab": {
     "base_uri": "https://localhost:8080/",
     "height": 391
    },
    "colab_type": "code",
    "executionInfo": {
     "elapsed": 4049,
     "status": "ok",
     "timestamp": 1592370769815,
     "user": {
      "displayName": "Sharoon Saxena",
      "photoUrl": "https://lh3.googleusercontent.com/a-/AOh14GjyKz9rNCPkHi6QK8TjrjBFlTtaI9ngf0hIwgAl=s64",
      "userId": "01167841530696023488"
     },
     "user_tz": -330
    },
    "id": "0iwTohEDZJt_",
    "outputId": "b990f11d-0798-4920-b5f6-e15539b9bbcb"
   },
   "outputs": [
    {
     "data": {
      "text/plain": [
       "ID                                           0\n",
       "Date House was Sold                          0\n",
       "Sale Price                                   4\n",
       "No of Bedrooms                               0\n",
       "No of Bathrooms                              4\n",
       "Flat Area (in Sqft)                          9\n",
       "Lot Area (in Sqft)                           9\n",
       "No of Floors                                 0\n",
       "Waterfront View                              0\n",
       "No of Times Visited                          0\n",
       "Condition of the House                       0\n",
       "Overall Grade                                0\n",
       "Area of the House from Basement (in Sqft)    3\n",
       "Basement Area (in Sqft)                      0\n",
       "Age of House (in Years)                      0\n",
       "Renovated Year                               0\n",
       "Zipcode                                      1\n",
       "Latitude                                     1\n",
       "Longitude                                    1\n",
       "Living Area after Renovation (in Sqft)       1\n",
       "Lot Area after Renovation (in Sqft)          0\n",
       "dtype: int64"
      ]
     },
     "execution_count": 12,
     "metadata": {},
     "output_type": "execute_result"
    }
   ],
   "source": [
    "#checking missing values\n",
    "data.isnull().sum()"
   ]
  },
  {
   "cell_type": "code",
   "execution_count": 13,
   "metadata": {
    "colab": {
     "base_uri": "https://localhost:8080/",
     "height": 34
    },
    "colab_type": "code",
    "executionInfo": {
     "elapsed": 4021,
     "status": "ok",
     "timestamp": 1592370769819,
     "user": {
      "displayName": "Sharoon Saxena",
      "photoUrl": "https://lh3.googleusercontent.com/a-/AOh14GjyKz9rNCPkHi6QK8TjrjBFlTtaI9ngf0hIwgAl=s64",
      "userId": "01167841530696023488"
     },
     "user_tz": -330
    },
    "id": "rlOuAJCrH-dd",
    "outputId": "4afcada8-cdee-4e6a-e394-4ec1f8a2e535"
   },
   "outputs": [
    {
     "data": {
      "text/plain": [
       "4"
      ]
     },
     "execution_count": 13,
     "metadata": {},
     "output_type": "execute_result"
    }
   ],
   "source": [
    "data['Sale Price'].dropna(inplace=True)\n",
    "data[\"Sale Price\"].isnull().sum()"
   ]
  },
  {
   "cell_type": "code",
   "execution_count": 14,
   "metadata": {
    "colab": {
     "base_uri": "https://localhost:8080/",
     "height": 493
    },
    "colab_type": "code",
    "executionInfo": {
     "elapsed": 4009,
     "status": "ok",
     "timestamp": 1592370769820,
     "user": {
      "displayName": "Sharoon Saxena",
      "photoUrl": "https://lh3.googleusercontent.com/a-/AOh14GjyKz9rNCPkHi6QK8TjrjBFlTtaI9ngf0hIwgAl=s64",
      "userId": "01167841530696023488"
     },
     "user_tz": -330
    },
    "id": "8lncaVFphYR5",
    "outputId": "03a84ac1-7a4a-4290-c642-b92b730b44d4"
   },
   "outputs": [
    {
     "name": "stdout",
     "output_type": "stream",
     "text": [
      "<class 'pandas.core.frame.DataFrame'>\n",
      "RangeIndex: 21613 entries, 0 to 21612\n",
      "Data columns (total 21 columns):\n",
      " #   Column                                     Non-Null Count  Dtype  \n",
      "---  ------                                     --------------  -----  \n",
      " 0   ID                                         21613 non-null  int64  \n",
      " 1   Date House was Sold                        21613 non-null  object \n",
      " 2   Sale Price                                 21609 non-null  float64\n",
      " 3   No of Bedrooms                             21613 non-null  int64  \n",
      " 4   No of Bathrooms                            21609 non-null  float64\n",
      " 5   Flat Area (in Sqft)                        21604 non-null  float64\n",
      " 6   Lot Area (in Sqft)                         21604 non-null  float64\n",
      " 7   No of Floors                               21613 non-null  float64\n",
      " 8   Waterfront View                            21613 non-null  object \n",
      " 9   No of Times Visited                        21613 non-null  object \n",
      " 10  Condition of the House                     21613 non-null  object \n",
      " 11  Overall Grade                              21613 non-null  int64  \n",
      " 12  Area of the House from Basement (in Sqft)  21610 non-null  float64\n",
      " 13  Basement Area (in Sqft)                    21613 non-null  int64  \n",
      " 14  Age of House (in Years)                    21613 non-null  int64  \n",
      " 15  Renovated Year                             21613 non-null  int64  \n",
      " 16  Zipcode                                    21612 non-null  float64\n",
      " 17  Latitude                                   21612 non-null  float64\n",
      " 18  Longitude                                  21612 non-null  float64\n",
      " 19  Living Area after Renovation (in Sqft)     21612 non-null  float64\n",
      " 20  Lot Area after Renovation (in Sqft)        21613 non-null  int64  \n",
      "dtypes: float64(10), int64(7), object(4)\n",
      "memory usage: 3.5+ MB\n"
     ]
    }
   ],
   "source": [
    "data.info()"
   ]
  },
  {
   "cell_type": "code",
   "execution_count": 15,
   "metadata": {
    "colab": {},
    "colab_type": "code",
    "executionInfo": {
     "elapsed": 3998,
     "status": "ok",
     "timestamp": 1592370769821,
     "user": {
      "displayName": "Sharoon Saxena",
      "photoUrl": "https://lh3.googleusercontent.com/a-/AOh14GjyKz9rNCPkHi6QK8TjrjBFlTtaI9ngf0hIwgAl=s64",
      "userId": "01167841530696023488"
     },
     "user_tz": -330
    },
    "id": "z6xMLtXRdGbN"
   },
   "outputs": [],
   "source": [
    "#isolating numerical variables\n",
    "numerical_columns = ['No of Bathrooms', 'Flat Area (in Sqft)','Lot Area (in Sqft)',\n",
    "                     'Area of the House from Basement (in Sqft)','Latitude',\n",
    "                     'Longitude','Living Area after Renovation (in Sqft)']"
   ]
  },
  {
   "cell_type": "code",
   "execution_count": 16,
   "metadata": {
    "colab": {},
    "colab_type": "code",
    "executionInfo": {
     "elapsed": 3990,
     "status": "ok",
     "timestamp": 1592370769822,
     "user": {
      "displayName": "Sharoon Saxena",
      "photoUrl": "https://lh3.googleusercontent.com/a-/AOh14GjyKz9rNCPkHi6QK8TjrjBFlTtaI9ngf0hIwgAl=s64",
      "userId": "01167841530696023488"
     },
     "user_tz": -330
    },
    "id": "shZvE8UjvUrj"
   },
   "outputs": [],
   "source": [
    "#imputing missing values\n",
    "from sklearn.impute import SimpleImputer\n",
    "imputer = SimpleImputer(missing_values = np.nan, strategy = 'median')\n",
    "data[numerical_columns] = imputer.fit_transform(data[numerical_columns])"
   ]
  },
  {
   "cell_type": "code",
   "execution_count": 17,
   "metadata": {
    "colab": {
     "base_uri": "https://localhost:8080/",
     "height": 493
    },
    "colab_type": "code",
    "executionInfo": {
     "elapsed": 3979,
     "status": "ok",
     "timestamp": 1592370769823,
     "user": {
      "displayName": "Sharoon Saxena",
      "photoUrl": "https://lh3.googleusercontent.com/a-/AOh14GjyKz9rNCPkHi6QK8TjrjBFlTtaI9ngf0hIwgAl=s64",
      "userId": "01167841530696023488"
     },
     "user_tz": -330
    },
    "id": "g82g050tcOAF",
    "outputId": "5b1f6633-5a53-41aa-d6b0-fe23f191f8cd"
   },
   "outputs": [
    {
     "name": "stdout",
     "output_type": "stream",
     "text": [
      "<class 'pandas.core.frame.DataFrame'>\n",
      "RangeIndex: 21613 entries, 0 to 21612\n",
      "Data columns (total 21 columns):\n",
      " #   Column                                     Non-Null Count  Dtype  \n",
      "---  ------                                     --------------  -----  \n",
      " 0   ID                                         21613 non-null  int64  \n",
      " 1   Date House was Sold                        21613 non-null  object \n",
      " 2   Sale Price                                 21609 non-null  float64\n",
      " 3   No of Bedrooms                             21613 non-null  int64  \n",
      " 4   No of Bathrooms                            21613 non-null  float64\n",
      " 5   Flat Area (in Sqft)                        21613 non-null  float64\n",
      " 6   Lot Area (in Sqft)                         21613 non-null  float64\n",
      " 7   No of Floors                               21613 non-null  float64\n",
      " 8   Waterfront View                            21613 non-null  object \n",
      " 9   No of Times Visited                        21613 non-null  object \n",
      " 10  Condition of the House                     21613 non-null  object \n",
      " 11  Overall Grade                              21613 non-null  int64  \n",
      " 12  Area of the House from Basement (in Sqft)  21613 non-null  float64\n",
      " 13  Basement Area (in Sqft)                    21613 non-null  int64  \n",
      " 14  Age of House (in Years)                    21613 non-null  int64  \n",
      " 15  Renovated Year                             21613 non-null  int64  \n",
      " 16  Zipcode                                    21612 non-null  float64\n",
      " 17  Latitude                                   21613 non-null  float64\n",
      " 18  Longitude                                  21613 non-null  float64\n",
      " 19  Living Area after Renovation (in Sqft)     21613 non-null  float64\n",
      " 20  Lot Area after Renovation (in Sqft)        21613 non-null  int64  \n",
      "dtypes: float64(10), int64(7), object(4)\n",
      "memory usage: 3.5+ MB\n"
     ]
    }
   ],
   "source": [
    "data.info()"
   ]
  },
  {
   "cell_type": "markdown",
   "metadata": {
    "colab_type": "text",
    "id": "IwUBgj4NEEXY"
   },
   "source": [
    "# zipcode transform"
   ]
  },
  {
   "cell_type": "code",
   "execution_count": 18,
   "metadata": {
    "colab": {},
    "colab_type": "code",
    "executionInfo": {
     "elapsed": 3965,
     "status": "ok",
     "timestamp": 1592370769824,
     "user": {
      "displayName": "Sharoon Saxena",
      "photoUrl": "https://lh3.googleusercontent.com/a-/AOh14GjyKz9rNCPkHi6QK8TjrjBFlTtaI9ngf0hIwgAl=s64",
      "userId": "01167841530696023488"
     },
     "user_tz": -330
    },
    "id": "m1k4zpx9h2RI"
   },
   "outputs": [],
   "source": [
    "imputer = SimpleImputer(missing_values = np.nan, strategy = 'most_frequent')\n",
    "data['Zipcode'] = imputer.fit_transform(data['Zipcode'].values.reshape(-1,1))"
   ]
  },
  {
   "cell_type": "code",
   "execution_count": 19,
   "metadata": {
    "colab": {
     "base_uri": "https://localhost:8080/",
     "height": 34
    },
    "colab_type": "code",
    "executionInfo": {
     "elapsed": 3954,
     "status": "ok",
     "timestamp": 1592370769824,
     "user": {
      "displayName": "Sharoon Saxena",
      "photoUrl": "https://lh3.googleusercontent.com/a-/AOh14GjyKz9rNCPkHi6QK8TjrjBFlTtaI9ngf0hIwgAl=s64",
      "userId": "01167841530696023488"
     },
     "user_tz": -330
    },
    "id": "gVhVkXvltChX",
    "outputId": "fd1a91b9-3544-40ce-ba29-b5d11574d639"
   },
   "outputs": [
    {
     "data": {
      "text/plain": [
       "(21613,)"
      ]
     },
     "execution_count": 19,
     "metadata": {},
     "output_type": "execute_result"
    }
   ],
   "source": [
    "data['Zipcode'].shape"
   ]
  },
  {
   "cell_type": "code",
   "execution_count": 20,
   "metadata": {
    "colab": {
     "base_uri": "https://localhost:8080/",
     "height": 34
    },
    "colab_type": "code",
    "executionInfo": {
     "elapsed": 3939,
     "status": "ok",
     "timestamp": 1592370769825,
     "user": {
      "displayName": "Sharoon Saxena",
      "photoUrl": "https://lh3.googleusercontent.com/a-/AOh14GjyKz9rNCPkHi6QK8TjrjBFlTtaI9ngf0hIwgAl=s64",
      "userId": "01167841530696023488"
     },
     "user_tz": -330
    },
    "id": "iXtZY38Vxg9i",
    "outputId": "bc722049-649c-408e-9fa9-897ffb8df728"
   },
   "outputs": [
    {
     "data": {
      "text/plain": [
       "(21613, 1)"
      ]
     },
     "execution_count": 20,
     "metadata": {},
     "output_type": "execute_result"
    }
   ],
   "source": [
    "column = data[\"Zipcode\"].values.reshape(-1,1)\n",
    "column.shape"
   ]
  },
  {
   "cell_type": "code",
   "execution_count": 21,
   "metadata": {
    "colab": {},
    "colab_type": "code",
    "executionInfo": {
     "elapsed": 3925,
     "status": "ok",
     "timestamp": 1592370769825,
     "user": {
      "displayName": "Sharoon Saxena",
      "photoUrl": "https://lh3.googleusercontent.com/a-/AOh14GjyKz9rNCPkHi6QK8TjrjBFlTtaI9ngf0hIwgAl=s64",
      "userId": "01167841530696023488"
     },
     "user_tz": -330
    },
    "id": "S5sAxB3OwHll"
   },
   "outputs": [],
   "source": [
    "imputer = SimpleImputer(missing_values = np.nan, strategy = 'most_frequent')\n",
    "data['Zipcode'] = imputer.fit_transform(column)"
   ]
  },
  {
   "cell_type": "code",
   "execution_count": 22,
   "metadata": {
    "colab": {
     "base_uri": "https://localhost:8080/",
     "height": 493
    },
    "colab_type": "code",
    "executionInfo": {
     "elapsed": 3915,
     "status": "ok",
     "timestamp": 1592370769826,
     "user": {
      "displayName": "Sharoon Saxena",
      "photoUrl": "https://lh3.googleusercontent.com/a-/AOh14GjyKz9rNCPkHi6QK8TjrjBFlTtaI9ngf0hIwgAl=s64",
      "userId": "01167841530696023488"
     },
     "user_tz": -330
    },
    "id": "6zAZQlTixp3s",
    "outputId": "c47601ee-2678-4ba3-fd10-e5cd5339b7b2"
   },
   "outputs": [
    {
     "name": "stdout",
     "output_type": "stream",
     "text": [
      "<class 'pandas.core.frame.DataFrame'>\n",
      "RangeIndex: 21613 entries, 0 to 21612\n",
      "Data columns (total 21 columns):\n",
      " #   Column                                     Non-Null Count  Dtype  \n",
      "---  ------                                     --------------  -----  \n",
      " 0   ID                                         21613 non-null  int64  \n",
      " 1   Date House was Sold                        21613 non-null  object \n",
      " 2   Sale Price                                 21609 non-null  float64\n",
      " 3   No of Bedrooms                             21613 non-null  int64  \n",
      " 4   No of Bathrooms                            21613 non-null  float64\n",
      " 5   Flat Area (in Sqft)                        21613 non-null  float64\n",
      " 6   Lot Area (in Sqft)                         21613 non-null  float64\n",
      " 7   No of Floors                               21613 non-null  float64\n",
      " 8   Waterfront View                            21613 non-null  object \n",
      " 9   No of Times Visited                        21613 non-null  object \n",
      " 10  Condition of the House                     21613 non-null  object \n",
      " 11  Overall Grade                              21613 non-null  int64  \n",
      " 12  Area of the House from Basement (in Sqft)  21613 non-null  float64\n",
      " 13  Basement Area (in Sqft)                    21613 non-null  int64  \n",
      " 14  Age of House (in Years)                    21613 non-null  int64  \n",
      " 15  Renovated Year                             21613 non-null  int64  \n",
      " 16  Zipcode                                    21613 non-null  float64\n",
      " 17  Latitude                                   21613 non-null  float64\n",
      " 18  Longitude                                  21613 non-null  float64\n",
      " 19  Living Area after Renovation (in Sqft)     21613 non-null  float64\n",
      " 20  Lot Area after Renovation (in Sqft)        21613 non-null  int64  \n",
      "dtypes: float64(10), int64(7), object(4)\n",
      "memory usage: 3.5+ MB\n"
     ]
    }
   ],
   "source": [
    "data.info()"
   ]
  },
  {
   "cell_type": "markdown",
   "metadata": {
    "colab_type": "text",
    "id": "0KwCTERkEurY"
   },
   "source": [
    "# Other transformations"
   ]
  },
  {
   "cell_type": "code",
   "execution_count": 23,
   "metadata": {
    "colab": {
     "base_uri": "https://localhost:8080/",
     "height": 34
    },
    "colab_type": "code",
    "executionInfo": {
     "elapsed": 3902,
     "status": "ok",
     "timestamp": 1592370769827,
     "user": {
      "displayName": "Sharoon Saxena",
      "photoUrl": "https://lh3.googleusercontent.com/a-/AOh14GjyKz9rNCPkHi6QK8TjrjBFlTtaI9ngf0hIwgAl=s64",
      "userId": "01167841530696023488"
     },
     "user_tz": -330
    },
    "id": "L1QSLL0fC8m7",
    "outputId": "23886552-6dea-4eeb-a89e-6c5b2f9505fc"
   },
   "outputs": [
    {
     "data": {
      "text/plain": [
       "array(['None', 'Thrice', 'Four', 'Twice', 'Once'], dtype=object)"
      ]
     },
     "execution_count": 23,
     "metadata": {},
     "output_type": "execute_result"
    }
   ],
   "source": [
    "data['No of Times Visited'].unique()"
   ]
  },
  {
   "cell_type": "code",
   "execution_count": 24,
   "metadata": {
    "colab": {},
    "colab_type": "code",
    "executionInfo": {
     "elapsed": 3891,
     "status": "ok",
     "timestamp": 1592370769828,
     "user": {
      "displayName": "Sharoon Saxena",
      "photoUrl": "https://lh3.googleusercontent.com/a-/AOh14GjyKz9rNCPkHi6QK8TjrjBFlTtaI9ngf0hIwgAl=s64",
      "userId": "01167841530696023488"
     },
     "user_tz": -330
    },
    "id": "uGMpGbccuRTn"
   },
   "outputs": [],
   "source": [
    "# converting from string to categorical\n",
    "mapping = {'None' : \"0\",\n",
    "           'Once' : '1',\n",
    "           'Twice' : '2',\n",
    "           'Thrice' : '3',\n",
    "           'Four' : '4'}\n",
    "\n",
    "data['No of Times Visited'] = data['No of Times Visited'].map(mapping)"
   ]
  },
  {
   "cell_type": "code",
   "execution_count": 25,
   "metadata": {
    "colab": {
     "base_uri": "https://localhost:8080/",
     "height": 34
    },
    "colab_type": "code",
    "executionInfo": {
     "elapsed": 3882,
     "status": "ok",
     "timestamp": 1592370769829,
     "user": {
      "displayName": "Sharoon Saxena",
      "photoUrl": "https://lh3.googleusercontent.com/a-/AOh14GjyKz9rNCPkHi6QK8TjrjBFlTtaI9ngf0hIwgAl=s64",
      "userId": "01167841530696023488"
     },
     "user_tz": -330
    },
    "id": "m0I1D5jXu553",
    "outputId": "3edd0656-8a09-4f02-ba56-4b53ea10f119"
   },
   "outputs": [
    {
     "data": {
      "text/plain": [
       "array(['0', '3', '4', '2', '1'], dtype=object)"
      ]
     },
     "execution_count": 25,
     "metadata": {},
     "output_type": "execute_result"
    }
   ],
   "source": [
    "data['No of Times Visited'].unique()"
   ]
  },
  {
   "cell_type": "code",
   "execution_count": 26,
   "metadata": {
    "colab": {},
    "colab_type": "code",
    "executionInfo": {
     "elapsed": 3871,
     "status": "ok",
     "timestamp": 1592370769829,
     "user": {
      "displayName": "Sharoon Saxena",
      "photoUrl": "https://lh3.googleusercontent.com/a-/AOh14GjyKz9rNCPkHi6QK8TjrjBFlTtaI9ngf0hIwgAl=s64",
      "userId": "01167841530696023488"
     },
     "user_tz": -330
    },
    "id": "8ZoKhrG8wNWW"
   },
   "outputs": [],
   "source": [
    "# new variable creation\n",
    "data['Ever Renovated'] = np.where(data['Renovated Year'] == 0, 'No', 'Yes')"
   ]
  },
  {
   "cell_type": "code",
   "execution_count": 27,
   "metadata": {
    "colab": {
     "base_uri": "https://localhost:8080/",
     "height": 496
    },
    "colab_type": "code",
    "executionInfo": {
     "elapsed": 3861,
     "status": "ok",
     "timestamp": 1592370769830,
     "user": {
      "displayName": "Sharoon Saxena",
      "photoUrl": "https://lh3.googleusercontent.com/a-/AOh14GjyKz9rNCPkHi6QK8TjrjBFlTtaI9ngf0hIwgAl=s64",
      "userId": "01167841530696023488"
     },
     "user_tz": -330
    },
    "id": "bJJzbLKZwji2",
    "outputId": "61adc7f3-0097-420a-aef1-96aee2f99f71"
   },
   "outputs": [
    {
     "data": {
      "text/html": [
       "<div>\n",
       "<style scoped>\n",
       "    .dataframe tbody tr th:only-of-type {\n",
       "        vertical-align: middle;\n",
       "    }\n",
       "\n",
       "    .dataframe tbody tr th {\n",
       "        vertical-align: top;\n",
       "    }\n",
       "\n",
       "    .dataframe thead th {\n",
       "        text-align: right;\n",
       "    }\n",
       "</style>\n",
       "<table border=\"1\" class=\"dataframe\">\n",
       "  <thead>\n",
       "    <tr style=\"text-align: right;\">\n",
       "      <th></th>\n",
       "      <th>ID</th>\n",
       "      <th>Date House was Sold</th>\n",
       "      <th>Sale Price</th>\n",
       "      <th>No of Bedrooms</th>\n",
       "      <th>No of Bathrooms</th>\n",
       "      <th>Flat Area (in Sqft)</th>\n",
       "      <th>Lot Area (in Sqft)</th>\n",
       "      <th>No of Floors</th>\n",
       "      <th>Waterfront View</th>\n",
       "      <th>No of Times Visited</th>\n",
       "      <th>...</th>\n",
       "      <th>Area of the House from Basement (in Sqft)</th>\n",
       "      <th>Basement Area (in Sqft)</th>\n",
       "      <th>Age of House (in Years)</th>\n",
       "      <th>Renovated Year</th>\n",
       "      <th>Zipcode</th>\n",
       "      <th>Latitude</th>\n",
       "      <th>Longitude</th>\n",
       "      <th>Living Area after Renovation (in Sqft)</th>\n",
       "      <th>Lot Area after Renovation (in Sqft)</th>\n",
       "      <th>Ever Renovated</th>\n",
       "    </tr>\n",
       "  </thead>\n",
       "  <tbody>\n",
       "    <tr>\n",
       "      <th>0</th>\n",
       "      <td>7129300520</td>\n",
       "      <td>14 October 2017</td>\n",
       "      <td>221900.0</td>\n",
       "      <td>3</td>\n",
       "      <td>1.00</td>\n",
       "      <td>1180.0</td>\n",
       "      <td>5650.0</td>\n",
       "      <td>1.0</td>\n",
       "      <td>No</td>\n",
       "      <td>0</td>\n",
       "      <td>...</td>\n",
       "      <td>1180.0</td>\n",
       "      <td>0</td>\n",
       "      <td>63</td>\n",
       "      <td>0</td>\n",
       "      <td>98178.0</td>\n",
       "      <td>47.5112</td>\n",
       "      <td>-122.257</td>\n",
       "      <td>1340.0</td>\n",
       "      <td>5650</td>\n",
       "      <td>No</td>\n",
       "    </tr>\n",
       "    <tr>\n",
       "      <th>1</th>\n",
       "      <td>6414100192</td>\n",
       "      <td>14 December 2017</td>\n",
       "      <td>538000.0</td>\n",
       "      <td>3</td>\n",
       "      <td>2.25</td>\n",
       "      <td>2570.0</td>\n",
       "      <td>7242.0</td>\n",
       "      <td>2.0</td>\n",
       "      <td>No</td>\n",
       "      <td>0</td>\n",
       "      <td>...</td>\n",
       "      <td>2170.0</td>\n",
       "      <td>400</td>\n",
       "      <td>67</td>\n",
       "      <td>1991</td>\n",
       "      <td>98125.0</td>\n",
       "      <td>47.7210</td>\n",
       "      <td>-122.319</td>\n",
       "      <td>1690.0</td>\n",
       "      <td>7639</td>\n",
       "      <td>Yes</td>\n",
       "    </tr>\n",
       "    <tr>\n",
       "      <th>2</th>\n",
       "      <td>5631500400</td>\n",
       "      <td>15 February 2016</td>\n",
       "      <td>180000.0</td>\n",
       "      <td>2</td>\n",
       "      <td>1.00</td>\n",
       "      <td>770.0</td>\n",
       "      <td>10000.0</td>\n",
       "      <td>1.0</td>\n",
       "      <td>No</td>\n",
       "      <td>0</td>\n",
       "      <td>...</td>\n",
       "      <td>770.0</td>\n",
       "      <td>0</td>\n",
       "      <td>85</td>\n",
       "      <td>0</td>\n",
       "      <td>98028.0</td>\n",
       "      <td>47.7379</td>\n",
       "      <td>-122.233</td>\n",
       "      <td>2720.0</td>\n",
       "      <td>8062</td>\n",
       "      <td>No</td>\n",
       "    </tr>\n",
       "    <tr>\n",
       "      <th>3</th>\n",
       "      <td>2487200875</td>\n",
       "      <td>14 December 2017</td>\n",
       "      <td>604000.0</td>\n",
       "      <td>4</td>\n",
       "      <td>3.00</td>\n",
       "      <td>1960.0</td>\n",
       "      <td>5000.0</td>\n",
       "      <td>1.0</td>\n",
       "      <td>No</td>\n",
       "      <td>0</td>\n",
       "      <td>...</td>\n",
       "      <td>1050.0</td>\n",
       "      <td>910</td>\n",
       "      <td>53</td>\n",
       "      <td>0</td>\n",
       "      <td>98136.0</td>\n",
       "      <td>47.5208</td>\n",
       "      <td>-122.393</td>\n",
       "      <td>1360.0</td>\n",
       "      <td>5000</td>\n",
       "      <td>No</td>\n",
       "    </tr>\n",
       "    <tr>\n",
       "      <th>4</th>\n",
       "      <td>1954400510</td>\n",
       "      <td>15 February 2016</td>\n",
       "      <td>510000.0</td>\n",
       "      <td>3</td>\n",
       "      <td>2.00</td>\n",
       "      <td>1680.0</td>\n",
       "      <td>8080.0</td>\n",
       "      <td>1.0</td>\n",
       "      <td>No</td>\n",
       "      <td>0</td>\n",
       "      <td>...</td>\n",
       "      <td>1680.0</td>\n",
       "      <td>0</td>\n",
       "      <td>31</td>\n",
       "      <td>0</td>\n",
       "      <td>98074.0</td>\n",
       "      <td>47.6168</td>\n",
       "      <td>-122.045</td>\n",
       "      <td>1800.0</td>\n",
       "      <td>7503</td>\n",
       "      <td>No</td>\n",
       "    </tr>\n",
       "  </tbody>\n",
       "</table>\n",
       "<p>5 rows × 22 columns</p>\n",
       "</div>"
      ],
      "text/plain": [
       "           ID Date House was Sold  Sale Price  No of Bedrooms  \\\n",
       "0  7129300520     14 October 2017    221900.0               3   \n",
       "1  6414100192    14 December 2017    538000.0               3   \n",
       "2  5631500400    15 February 2016    180000.0               2   \n",
       "3  2487200875    14 December 2017    604000.0               4   \n",
       "4  1954400510    15 February 2016    510000.0               3   \n",
       "\n",
       "   No of Bathrooms  Flat Area (in Sqft)  Lot Area (in Sqft)  No of Floors  \\\n",
       "0             1.00               1180.0              5650.0           1.0   \n",
       "1             2.25               2570.0              7242.0           2.0   \n",
       "2             1.00                770.0             10000.0           1.0   \n",
       "3             3.00               1960.0              5000.0           1.0   \n",
       "4             2.00               1680.0              8080.0           1.0   \n",
       "\n",
       "  Waterfront View No of Times Visited  ...  \\\n",
       "0              No                   0  ...   \n",
       "1              No                   0  ...   \n",
       "2              No                   0  ...   \n",
       "3              No                   0  ...   \n",
       "4              No                   0  ...   \n",
       "\n",
       "  Area of the House from Basement (in Sqft)  Basement Area (in Sqft)  \\\n",
       "0                                    1180.0                        0   \n",
       "1                                    2170.0                      400   \n",
       "2                                     770.0                        0   \n",
       "3                                    1050.0                      910   \n",
       "4                                    1680.0                        0   \n",
       "\n",
       "   Age of House (in Years)  Renovated Year  Zipcode  Latitude  Longitude  \\\n",
       "0                       63               0  98178.0   47.5112   -122.257   \n",
       "1                       67            1991  98125.0   47.7210   -122.319   \n",
       "2                       85               0  98028.0   47.7379   -122.233   \n",
       "3                       53               0  98136.0   47.5208   -122.393   \n",
       "4                       31               0  98074.0   47.6168   -122.045   \n",
       "\n",
       "   Living Area after Renovation (in Sqft)  \\\n",
       "0                                  1340.0   \n",
       "1                                  1690.0   \n",
       "2                                  2720.0   \n",
       "3                                  1360.0   \n",
       "4                                  1800.0   \n",
       "\n",
       "   Lot Area after Renovation (in Sqft)  Ever Renovated  \n",
       "0                                 5650              No  \n",
       "1                                 7639             Yes  \n",
       "2                                 8062              No  \n",
       "3                                 5000              No  \n",
       "4                                 7503              No  \n",
       "\n",
       "[5 rows x 22 columns]"
      ]
     },
     "execution_count": 27,
     "metadata": {},
     "output_type": "execute_result"
    }
   ],
   "source": [
    "data.head()"
   ]
  },
  {
   "cell_type": "code",
   "execution_count": 28,
   "metadata": {
    "colab": {},
    "colab_type": "code",
    "executionInfo": {
     "elapsed": 6496,
     "status": "ok",
     "timestamp": 1592370772490,
     "user": {
      "displayName": "Sharoon Saxena",
      "photoUrl": "https://lh3.googleusercontent.com/a-/AOh14GjyKz9rNCPkHi6QK8TjrjBFlTtaI9ngf0hIwgAl=s64",
      "userId": "01167841530696023488"
     },
     "user_tz": -330
    },
    "id": "pzoi4XO0yBsr"
   },
   "outputs": [],
   "source": [
    "#manipulating datetime variable\n",
    "data['Purchase Year'] = pd.DatetimeIndex(data['Date House was Sold']).year"
   ]
  },
  {
   "cell_type": "code",
   "execution_count": 29,
   "metadata": {
    "colab": {},
    "colab_type": "code",
    "executionInfo": {
     "elapsed": 6485,
     "status": "ok",
     "timestamp": 1592370772490,
     "user": {
      "displayName": "Sharoon Saxena",
      "photoUrl": "https://lh3.googleusercontent.com/a-/AOh14GjyKz9rNCPkHi6QK8TjrjBFlTtaI9ngf0hIwgAl=s64",
      "userId": "01167841530696023488"
     },
     "user_tz": -330
    },
    "id": "AoW6XaxP3ivz"
   },
   "outputs": [],
   "source": [
    "data['Years Since Renovation'] = np.where(data['Ever Renovated'] == 'Yes',\n",
    "                                                     abs(data['Purchase Year'] - \n",
    "                                                        data['Renovated Year']), 0)"
   ]
  },
  {
   "cell_type": "code",
   "execution_count": 30,
   "metadata": {
    "colab": {
     "base_uri": "https://localhost:8080/",
     "height": 496
    },
    "colab_type": "code",
    "executionInfo": {
     "elapsed": 6466,
     "status": "ok",
     "timestamp": 1592370772491,
     "user": {
      "displayName": "Sharoon Saxena",
      "photoUrl": "https://lh3.googleusercontent.com/a-/AOh14GjyKz9rNCPkHi6QK8TjrjBFlTtaI9ngf0hIwgAl=s64",
      "userId": "01167841530696023488"
     },
     "user_tz": -330
    },
    "id": "pkIhSmFl4V5O",
    "outputId": "93e0b77f-f37c-41b1-f516-344c05b282fa"
   },
   "outputs": [
    {
     "data": {
      "text/html": [
       "<div>\n",
       "<style scoped>\n",
       "    .dataframe tbody tr th:only-of-type {\n",
       "        vertical-align: middle;\n",
       "    }\n",
       "\n",
       "    .dataframe tbody tr th {\n",
       "        vertical-align: top;\n",
       "    }\n",
       "\n",
       "    .dataframe thead th {\n",
       "        text-align: right;\n",
       "    }\n",
       "</style>\n",
       "<table border=\"1\" class=\"dataframe\">\n",
       "  <thead>\n",
       "    <tr style=\"text-align: right;\">\n",
       "      <th></th>\n",
       "      <th>ID</th>\n",
       "      <th>Date House was Sold</th>\n",
       "      <th>Sale Price</th>\n",
       "      <th>No of Bedrooms</th>\n",
       "      <th>No of Bathrooms</th>\n",
       "      <th>Flat Area (in Sqft)</th>\n",
       "      <th>Lot Area (in Sqft)</th>\n",
       "      <th>No of Floors</th>\n",
       "      <th>Waterfront View</th>\n",
       "      <th>No of Times Visited</th>\n",
       "      <th>...</th>\n",
       "      <th>Age of House (in Years)</th>\n",
       "      <th>Renovated Year</th>\n",
       "      <th>Zipcode</th>\n",
       "      <th>Latitude</th>\n",
       "      <th>Longitude</th>\n",
       "      <th>Living Area after Renovation (in Sqft)</th>\n",
       "      <th>Lot Area after Renovation (in Sqft)</th>\n",
       "      <th>Ever Renovated</th>\n",
       "      <th>Purchase Year</th>\n",
       "      <th>Years Since Renovation</th>\n",
       "    </tr>\n",
       "  </thead>\n",
       "  <tbody>\n",
       "    <tr>\n",
       "      <th>0</th>\n",
       "      <td>7129300520</td>\n",
       "      <td>14 October 2017</td>\n",
       "      <td>221900.0</td>\n",
       "      <td>3</td>\n",
       "      <td>1.00</td>\n",
       "      <td>1180.0</td>\n",
       "      <td>5650.0</td>\n",
       "      <td>1.0</td>\n",
       "      <td>No</td>\n",
       "      <td>0</td>\n",
       "      <td>...</td>\n",
       "      <td>63</td>\n",
       "      <td>0</td>\n",
       "      <td>98178.0</td>\n",
       "      <td>47.5112</td>\n",
       "      <td>-122.257</td>\n",
       "      <td>1340.0</td>\n",
       "      <td>5650</td>\n",
       "      <td>No</td>\n",
       "      <td>2017</td>\n",
       "      <td>0</td>\n",
       "    </tr>\n",
       "    <tr>\n",
       "      <th>1</th>\n",
       "      <td>6414100192</td>\n",
       "      <td>14 December 2017</td>\n",
       "      <td>538000.0</td>\n",
       "      <td>3</td>\n",
       "      <td>2.25</td>\n",
       "      <td>2570.0</td>\n",
       "      <td>7242.0</td>\n",
       "      <td>2.0</td>\n",
       "      <td>No</td>\n",
       "      <td>0</td>\n",
       "      <td>...</td>\n",
       "      <td>67</td>\n",
       "      <td>1991</td>\n",
       "      <td>98125.0</td>\n",
       "      <td>47.7210</td>\n",
       "      <td>-122.319</td>\n",
       "      <td>1690.0</td>\n",
       "      <td>7639</td>\n",
       "      <td>Yes</td>\n",
       "      <td>2017</td>\n",
       "      <td>26</td>\n",
       "    </tr>\n",
       "    <tr>\n",
       "      <th>2</th>\n",
       "      <td>5631500400</td>\n",
       "      <td>15 February 2016</td>\n",
       "      <td>180000.0</td>\n",
       "      <td>2</td>\n",
       "      <td>1.00</td>\n",
       "      <td>770.0</td>\n",
       "      <td>10000.0</td>\n",
       "      <td>1.0</td>\n",
       "      <td>No</td>\n",
       "      <td>0</td>\n",
       "      <td>...</td>\n",
       "      <td>85</td>\n",
       "      <td>0</td>\n",
       "      <td>98028.0</td>\n",
       "      <td>47.7379</td>\n",
       "      <td>-122.233</td>\n",
       "      <td>2720.0</td>\n",
       "      <td>8062</td>\n",
       "      <td>No</td>\n",
       "      <td>2016</td>\n",
       "      <td>0</td>\n",
       "    </tr>\n",
       "    <tr>\n",
       "      <th>3</th>\n",
       "      <td>2487200875</td>\n",
       "      <td>14 December 2017</td>\n",
       "      <td>604000.0</td>\n",
       "      <td>4</td>\n",
       "      <td>3.00</td>\n",
       "      <td>1960.0</td>\n",
       "      <td>5000.0</td>\n",
       "      <td>1.0</td>\n",
       "      <td>No</td>\n",
       "      <td>0</td>\n",
       "      <td>...</td>\n",
       "      <td>53</td>\n",
       "      <td>0</td>\n",
       "      <td>98136.0</td>\n",
       "      <td>47.5208</td>\n",
       "      <td>-122.393</td>\n",
       "      <td>1360.0</td>\n",
       "      <td>5000</td>\n",
       "      <td>No</td>\n",
       "      <td>2017</td>\n",
       "      <td>0</td>\n",
       "    </tr>\n",
       "    <tr>\n",
       "      <th>4</th>\n",
       "      <td>1954400510</td>\n",
       "      <td>15 February 2016</td>\n",
       "      <td>510000.0</td>\n",
       "      <td>3</td>\n",
       "      <td>2.00</td>\n",
       "      <td>1680.0</td>\n",
       "      <td>8080.0</td>\n",
       "      <td>1.0</td>\n",
       "      <td>No</td>\n",
       "      <td>0</td>\n",
       "      <td>...</td>\n",
       "      <td>31</td>\n",
       "      <td>0</td>\n",
       "      <td>98074.0</td>\n",
       "      <td>47.6168</td>\n",
       "      <td>-122.045</td>\n",
       "      <td>1800.0</td>\n",
       "      <td>7503</td>\n",
       "      <td>No</td>\n",
       "      <td>2016</td>\n",
       "      <td>0</td>\n",
       "    </tr>\n",
       "  </tbody>\n",
       "</table>\n",
       "<p>5 rows × 24 columns</p>\n",
       "</div>"
      ],
      "text/plain": [
       "           ID Date House was Sold  Sale Price  No of Bedrooms  \\\n",
       "0  7129300520     14 October 2017    221900.0               3   \n",
       "1  6414100192    14 December 2017    538000.0               3   \n",
       "2  5631500400    15 February 2016    180000.0               2   \n",
       "3  2487200875    14 December 2017    604000.0               4   \n",
       "4  1954400510    15 February 2016    510000.0               3   \n",
       "\n",
       "   No of Bathrooms  Flat Area (in Sqft)  Lot Area (in Sqft)  No of Floors  \\\n",
       "0             1.00               1180.0              5650.0           1.0   \n",
       "1             2.25               2570.0              7242.0           2.0   \n",
       "2             1.00                770.0             10000.0           1.0   \n",
       "3             3.00               1960.0              5000.0           1.0   \n",
       "4             2.00               1680.0              8080.0           1.0   \n",
       "\n",
       "  Waterfront View No of Times Visited  ... Age of House (in Years)  \\\n",
       "0              No                   0  ...                      63   \n",
       "1              No                   0  ...                      67   \n",
       "2              No                   0  ...                      85   \n",
       "3              No                   0  ...                      53   \n",
       "4              No                   0  ...                      31   \n",
       "\n",
       "   Renovated Year  Zipcode  Latitude  Longitude  \\\n",
       "0               0  98178.0   47.5112   -122.257   \n",
       "1            1991  98125.0   47.7210   -122.319   \n",
       "2               0  98028.0   47.7379   -122.233   \n",
       "3               0  98136.0   47.5208   -122.393   \n",
       "4               0  98074.0   47.6168   -122.045   \n",
       "\n",
       "   Living Area after Renovation (in Sqft)  \\\n",
       "0                                  1340.0   \n",
       "1                                  1690.0   \n",
       "2                                  2720.0   \n",
       "3                                  1360.0   \n",
       "4                                  1800.0   \n",
       "\n",
       "   Lot Area after Renovation (in Sqft)  Ever Renovated  Purchase Year  \\\n",
       "0                                 5650              No           2017   \n",
       "1                                 7639             Yes           2017   \n",
       "2                                 8062              No           2016   \n",
       "3                                 5000              No           2017   \n",
       "4                                 7503              No           2016   \n",
       "\n",
       "   Years Since Renovation  \n",
       "0                       0  \n",
       "1                      26  \n",
       "2                       0  \n",
       "3                       0  \n",
       "4                       0  \n",
       "\n",
       "[5 rows x 24 columns]"
      ]
     },
     "execution_count": 30,
     "metadata": {},
     "output_type": "execute_result"
    }
   ],
   "source": [
    "data.head()"
   ]
  },
  {
   "cell_type": "code",
   "execution_count": 31,
   "metadata": {
    "colab": {},
    "colab_type": "code",
    "executionInfo": {
     "elapsed": 6452,
     "status": "ok",
     "timestamp": 1592370772491,
     "user": {
      "displayName": "Sharoon Saxena",
      "photoUrl": "https://lh3.googleusercontent.com/a-/AOh14GjyKz9rNCPkHi6QK8TjrjBFlTtaI9ngf0hIwgAl=s64",
      "userId": "01167841530696023488"
     },
     "user_tz": -330
    },
    "id": "nOiEshrD4qk4"
   },
   "outputs": [],
   "source": [
    "# dropping redundant variables\n",
    "data.drop( columns = ['Purchase Year', 'Date House was Sold', 'Renovated Year'], inplace = True)"
   ]
  },
  {
   "cell_type": "code",
   "execution_count": 32,
   "metadata": {
    "colab": {
     "base_uri": "https://localhost:8080/",
     "height": 326
    },
    "colab_type": "code",
    "executionInfo": {
     "elapsed": 6440,
     "status": "ok",
     "timestamp": 1592370772492,
     "user": {
      "displayName": "Sharoon Saxena",
      "photoUrl": "https://lh3.googleusercontent.com/a-/AOh14GjyKz9rNCPkHi6QK8TjrjBFlTtaI9ngf0hIwgAl=s64",
      "userId": "01167841530696023488"
     },
     "user_tz": -330
    },
    "id": "doqRXx7a5NhH",
    "outputId": "94a1e9f3-0d61-4d90-c288-1f1c6b54f4c0"
   },
   "outputs": [
    {
     "data": {
      "text/html": [
       "<div>\n",
       "<style scoped>\n",
       "    .dataframe tbody tr th:only-of-type {\n",
       "        vertical-align: middle;\n",
       "    }\n",
       "\n",
       "    .dataframe tbody tr th {\n",
       "        vertical-align: top;\n",
       "    }\n",
       "\n",
       "    .dataframe thead th {\n",
       "        text-align: right;\n",
       "    }\n",
       "</style>\n",
       "<table border=\"1\" class=\"dataframe\">\n",
       "  <thead>\n",
       "    <tr style=\"text-align: right;\">\n",
       "      <th></th>\n",
       "      <th>ID</th>\n",
       "      <th>Sale Price</th>\n",
       "      <th>No of Bedrooms</th>\n",
       "      <th>No of Bathrooms</th>\n",
       "      <th>Flat Area (in Sqft)</th>\n",
       "      <th>Lot Area (in Sqft)</th>\n",
       "      <th>No of Floors</th>\n",
       "      <th>Waterfront View</th>\n",
       "      <th>No of Times Visited</th>\n",
       "      <th>Condition of the House</th>\n",
       "      <th>...</th>\n",
       "      <th>Area of the House from Basement (in Sqft)</th>\n",
       "      <th>Basement Area (in Sqft)</th>\n",
       "      <th>Age of House (in Years)</th>\n",
       "      <th>Zipcode</th>\n",
       "      <th>Latitude</th>\n",
       "      <th>Longitude</th>\n",
       "      <th>Living Area after Renovation (in Sqft)</th>\n",
       "      <th>Lot Area after Renovation (in Sqft)</th>\n",
       "      <th>Ever Renovated</th>\n",
       "      <th>Years Since Renovation</th>\n",
       "    </tr>\n",
       "  </thead>\n",
       "  <tbody>\n",
       "    <tr>\n",
       "      <th>0</th>\n",
       "      <td>7129300520</td>\n",
       "      <td>221900.0</td>\n",
       "      <td>3</td>\n",
       "      <td>1.00</td>\n",
       "      <td>1180.0</td>\n",
       "      <td>5650.0</td>\n",
       "      <td>1.0</td>\n",
       "      <td>No</td>\n",
       "      <td>0</td>\n",
       "      <td>Fair</td>\n",
       "      <td>...</td>\n",
       "      <td>1180.0</td>\n",
       "      <td>0</td>\n",
       "      <td>63</td>\n",
       "      <td>98178.0</td>\n",
       "      <td>47.5112</td>\n",
       "      <td>-122.257</td>\n",
       "      <td>1340.0</td>\n",
       "      <td>5650</td>\n",
       "      <td>No</td>\n",
       "      <td>0</td>\n",
       "    </tr>\n",
       "    <tr>\n",
       "      <th>1</th>\n",
       "      <td>6414100192</td>\n",
       "      <td>538000.0</td>\n",
       "      <td>3</td>\n",
       "      <td>2.25</td>\n",
       "      <td>2570.0</td>\n",
       "      <td>7242.0</td>\n",
       "      <td>2.0</td>\n",
       "      <td>No</td>\n",
       "      <td>0</td>\n",
       "      <td>Fair</td>\n",
       "      <td>...</td>\n",
       "      <td>2170.0</td>\n",
       "      <td>400</td>\n",
       "      <td>67</td>\n",
       "      <td>98125.0</td>\n",
       "      <td>47.7210</td>\n",
       "      <td>-122.319</td>\n",
       "      <td>1690.0</td>\n",
       "      <td>7639</td>\n",
       "      <td>Yes</td>\n",
       "      <td>26</td>\n",
       "    </tr>\n",
       "    <tr>\n",
       "      <th>2</th>\n",
       "      <td>5631500400</td>\n",
       "      <td>180000.0</td>\n",
       "      <td>2</td>\n",
       "      <td>1.00</td>\n",
       "      <td>770.0</td>\n",
       "      <td>10000.0</td>\n",
       "      <td>1.0</td>\n",
       "      <td>No</td>\n",
       "      <td>0</td>\n",
       "      <td>Fair</td>\n",
       "      <td>...</td>\n",
       "      <td>770.0</td>\n",
       "      <td>0</td>\n",
       "      <td>85</td>\n",
       "      <td>98028.0</td>\n",
       "      <td>47.7379</td>\n",
       "      <td>-122.233</td>\n",
       "      <td>2720.0</td>\n",
       "      <td>8062</td>\n",
       "      <td>No</td>\n",
       "      <td>0</td>\n",
       "    </tr>\n",
       "    <tr>\n",
       "      <th>3</th>\n",
       "      <td>2487200875</td>\n",
       "      <td>604000.0</td>\n",
       "      <td>4</td>\n",
       "      <td>3.00</td>\n",
       "      <td>1960.0</td>\n",
       "      <td>5000.0</td>\n",
       "      <td>1.0</td>\n",
       "      <td>No</td>\n",
       "      <td>0</td>\n",
       "      <td>Excellent</td>\n",
       "      <td>...</td>\n",
       "      <td>1050.0</td>\n",
       "      <td>910</td>\n",
       "      <td>53</td>\n",
       "      <td>98136.0</td>\n",
       "      <td>47.5208</td>\n",
       "      <td>-122.393</td>\n",
       "      <td>1360.0</td>\n",
       "      <td>5000</td>\n",
       "      <td>No</td>\n",
       "      <td>0</td>\n",
       "    </tr>\n",
       "    <tr>\n",
       "      <th>4</th>\n",
       "      <td>1954400510</td>\n",
       "      <td>510000.0</td>\n",
       "      <td>3</td>\n",
       "      <td>2.00</td>\n",
       "      <td>1680.0</td>\n",
       "      <td>8080.0</td>\n",
       "      <td>1.0</td>\n",
       "      <td>No</td>\n",
       "      <td>0</td>\n",
       "      <td>Fair</td>\n",
       "      <td>...</td>\n",
       "      <td>1680.0</td>\n",
       "      <td>0</td>\n",
       "      <td>31</td>\n",
       "      <td>98074.0</td>\n",
       "      <td>47.6168</td>\n",
       "      <td>-122.045</td>\n",
       "      <td>1800.0</td>\n",
       "      <td>7503</td>\n",
       "      <td>No</td>\n",
       "      <td>0</td>\n",
       "    </tr>\n",
       "  </tbody>\n",
       "</table>\n",
       "<p>5 rows × 21 columns</p>\n",
       "</div>"
      ],
      "text/plain": [
       "           ID  Sale Price  No of Bedrooms  No of Bathrooms  \\\n",
       "0  7129300520    221900.0               3             1.00   \n",
       "1  6414100192    538000.0               3             2.25   \n",
       "2  5631500400    180000.0               2             1.00   \n",
       "3  2487200875    604000.0               4             3.00   \n",
       "4  1954400510    510000.0               3             2.00   \n",
       "\n",
       "   Flat Area (in Sqft)  Lot Area (in Sqft)  No of Floors Waterfront View  \\\n",
       "0               1180.0              5650.0           1.0              No   \n",
       "1               2570.0              7242.0           2.0              No   \n",
       "2                770.0             10000.0           1.0              No   \n",
       "3               1960.0              5000.0           1.0              No   \n",
       "4               1680.0              8080.0           1.0              No   \n",
       "\n",
       "  No of Times Visited Condition of the House  ...  \\\n",
       "0                   0                   Fair  ...   \n",
       "1                   0                   Fair  ...   \n",
       "2                   0                   Fair  ...   \n",
       "3                   0              Excellent  ...   \n",
       "4                   0                   Fair  ...   \n",
       "\n",
       "   Area of the House from Basement (in Sqft)  Basement Area (in Sqft)  \\\n",
       "0                                     1180.0                        0   \n",
       "1                                     2170.0                      400   \n",
       "2                                      770.0                        0   \n",
       "3                                     1050.0                      910   \n",
       "4                                     1680.0                        0   \n",
       "\n",
       "   Age of House (in Years)  Zipcode  Latitude  Longitude  \\\n",
       "0                       63  98178.0   47.5112   -122.257   \n",
       "1                       67  98125.0   47.7210   -122.319   \n",
       "2                       85  98028.0   47.7379   -122.233   \n",
       "3                       53  98136.0   47.5208   -122.393   \n",
       "4                       31  98074.0   47.6168   -122.045   \n",
       "\n",
       "   Living Area after Renovation (in Sqft)  \\\n",
       "0                                  1340.0   \n",
       "1                                  1690.0   \n",
       "2                                  2720.0   \n",
       "3                                  1360.0   \n",
       "4                                  1800.0   \n",
       "\n",
       "   Lot Area after Renovation (in Sqft)  Ever Renovated Years Since Renovation  \n",
       "0                                 5650              No                      0  \n",
       "1                                 7639             Yes                     26  \n",
       "2                                 8062              No                      0  \n",
       "3                                 5000              No                      0  \n",
       "4                                 7503              No                      0  \n",
       "\n",
       "[5 rows x 21 columns]"
      ]
     },
     "execution_count": 32,
     "metadata": {},
     "output_type": "execute_result"
    }
   ],
   "source": [
    "data.head()"
   ]
  },
  {
   "cell_type": "markdown",
   "metadata": {
    "colab_type": "text",
    "id": "xLgGAmfzFMAL"
   },
   "source": [
    "# zipcodebin"
   ]
  },
  {
   "cell_type": "code",
   "execution_count": 33,
   "metadata": {
    "colab": {},
    "colab_type": "code",
    "executionInfo": {
     "elapsed": 6426,
     "status": "ok",
     "timestamp": 1592370772492,
     "user": {
      "displayName": "Sharoon Saxena",
      "photoUrl": "https://lh3.googleusercontent.com/a-/AOh14GjyKz9rNCPkHi6QK8TjrjBFlTtaI9ngf0hIwgAl=s64",
      "userId": "01167841530696023488"
     },
     "user_tz": -330
    },
    "id": "yYKA8_Tv1yUl"
   },
   "outputs": [],
   "source": [
    "data.drop( columns = 'ID', inplace = True)"
   ]
  },
  {
   "cell_type": "code",
   "execution_count": 34,
   "metadata": {
    "colab": {
     "base_uri": "https://localhost:8080/",
     "height": 204
    },
    "colab_type": "code",
    "executionInfo": {
     "elapsed": 6412,
     "status": "ok",
     "timestamp": 1592370772493,
     "user": {
      "displayName": "Sharoon Saxena",
      "photoUrl": "https://lh3.googleusercontent.com/a-/AOh14GjyKz9rNCPkHi6QK8TjrjBFlTtaI9ngf0hIwgAl=s64",
      "userId": "01167841530696023488"
     },
     "user_tz": -330
    },
    "id": "YMiyBZ8e2A3D",
    "outputId": "ed97c390-0a8c-41e0-8003-94ac936bd332"
   },
   "outputs": [
    {
     "data": {
      "text/plain": [
       "0         Fair\n",
       "1         Fair\n",
       "2         Fair\n",
       "3    Excellent\n",
       "4         Fair\n",
       "5         Fair\n",
       "6         Fair\n",
       "7         Fair\n",
       "8         Fair\n",
       "9         Fair\n",
       "Name: Condition of the House, dtype: object"
      ]
     },
     "execution_count": 34,
     "metadata": {},
     "output_type": "execute_result"
    }
   ],
   "source": [
    "data['Condition of the House'].head(10)"
   ]
  },
  {
   "cell_type": "code",
   "execution_count": 35,
   "metadata": {
    "colab": {
     "base_uri": "https://localhost:8080/",
     "height": 119
    },
    "colab_type": "code",
    "executionInfo": {
     "elapsed": 6398,
     "status": "ok",
     "timestamp": 1592370772493,
     "user": {
      "displayName": "Sharoon Saxena",
      "photoUrl": "https://lh3.googleusercontent.com/a-/AOh14GjyKz9rNCPkHi6QK8TjrjBFlTtaI9ngf0hIwgAl=s64",
      "userId": "01167841530696023488"
     },
     "user_tz": -330
    },
    "id": "wrDpvMl_2Qb1",
    "outputId": "ed44769f-e7f7-469f-b316-6e5d5589bb3e"
   },
   "outputs": [
    {
     "data": {
      "text/plain": [
       "Fair         14031\n",
       "Good          5679\n",
       "Excellent     1701\n",
       "Okay           172\n",
       "Bad             30\n",
       "Name: Condition of the House, dtype: int64"
      ]
     },
     "execution_count": 35,
     "metadata": {},
     "output_type": "execute_result"
    }
   ],
   "source": [
    "data['Condition of the House'].value_counts()"
   ]
  },
  {
   "cell_type": "code",
   "execution_count": 36,
   "metadata": {
    "colab": {
     "base_uri": "https://localhost:8080/",
     "height": 332
    },
    "colab_type": "code",
    "executionInfo": {
     "elapsed": 6387,
     "status": "ok",
     "timestamp": 1592370772494,
     "user": {
      "displayName": "Sharoon Saxena",
      "photoUrl": "https://lh3.googleusercontent.com/a-/AOh14GjyKz9rNCPkHi6QK8TjrjBFlTtaI9ngf0hIwgAl=s64",
      "userId": "01167841530696023488"
     },
     "user_tz": -330
    },
    "id": "lqWPkQ4T2ZWI",
    "outputId": "1ac1db89-fa1d-4eab-d311-00e7a5877bd5"
   },
   "outputs": [
    {
     "data": {
      "text/plain": [
       "<AxesSubplot:xlabel='Condition of the House'>"
      ]
     },
     "execution_count": 36,
     "metadata": {},
     "output_type": "execute_result"
    },
    {
     "data": {
      "image/png": "[encoded data removed]",
      "text/plain": [
       "<Figure size 432x288 with 1 Axes>"
      ]
     },
     "metadata": {
      "needs_background": "light"
     },
     "output_type": "display_data"
    }
   ],
   "source": [
    "data.groupby('Condition of the House')['Sale Price'].mean().plot(kind = 'bar')"
   ]
  },
  {
   "cell_type": "code",
   "execution_count": 37,
   "metadata": {
    "colab": {
     "base_uri": "https://localhost:8080/",
     "height": 332
    },
    "colab_type": "code",
    "executionInfo": {
     "elapsed": 6370,
     "status": "ok",
     "timestamp": 1592370772494,
     "user": {
      "displayName": "Sharoon Saxena",
      "photoUrl": "https://lh3.googleusercontent.com/a-/AOh14GjyKz9rNCPkHi6QK8TjrjBFlTtaI9ngf0hIwgAl=s64",
      "userId": "01167841530696023488"
     },
     "user_tz": -330
    },
    "id": "vI0LgSLA3FEo",
    "outputId": "63261bea-5c22-4f17-ee05-42171dd77e89"
   },
   "outputs": [
    {
     "data": {
      "text/plain": [
       "<AxesSubplot:xlabel='Condition of the House'>"
      ]
     },
     "execution_count": 37,
     "metadata": {},
     "output_type": "execute_result"
    },
    {
     "data": {
      "image/png": "[encoded data removed]",
      "text/plain": [
       "<Figure size 432x288 with 1 Axes>"
      ]
     },
     "metadata": {
      "needs_background": "light"
     },
     "output_type": "display_data"
    }
   ],
   "source": [
    "data.groupby('Condition of the House')['Sale Price'].mean().sort_values().plot(kind = 'bar')"
   ]
  },
  {
   "cell_type": "code",
   "execution_count": 38,
   "metadata": {
    "colab": {
     "base_uri": "https://localhost:8080/",
     "height": 313
    },
    "colab_type": "code",
    "executionInfo": {
     "elapsed": 6355,
     "status": "ok",
     "timestamp": 1592370772496,
     "user": {
      "displayName": "Sharoon Saxena",
      "photoUrl": "https://lh3.googleusercontent.com/a-/AOh14GjyKz9rNCPkHi6QK8TjrjBFlTtaI9ngf0hIwgAl=s64",
      "userId": "01167841530696023488"
     },
     "user_tz": -330
    },
    "id": "O1pOIOME3x9B",
    "outputId": "a9a3cd8f-e32b-4c01-bf0d-82f5803eaa9a"
   },
   "outputs": [
    {
     "data": {
      "text/plain": [
       "<AxesSubplot:xlabel='Waterfront View'>"
      ]
     },
     "execution_count": 38,
     "metadata": {},
     "output_type": "execute_result"
    },
    {
     "data": {
      "image/png": "[encoded data removed]",
      "text/plain": [
       "<Figure size 432x288 with 1 Axes>"
      ]
     },
     "metadata": {
      "needs_background": "light"
     },
     "output_type": "display_data"
    }
   ],
   "source": [
    "data.groupby('Waterfront View')['Sale Price'].mean().sort_values().plot(kind = 'bar')"
   ]
  },
  {
   "cell_type": "code",
   "execution_count": 39,
   "metadata": {
    "colab": {
     "base_uri": "https://localhost:8080/",
     "height": 302
    },
    "colab_type": "code",
    "executionInfo": {
     "elapsed": 6340,
     "status": "ok",
     "timestamp": 1592370772497,
     "user": {
      "displayName": "Sharoon Saxena",
      "photoUrl": "https://lh3.googleusercontent.com/a-/AOh14GjyKz9rNCPkHi6QK8TjrjBFlTtaI9ngf0hIwgAl=s64",
      "userId": "01167841530696023488"
     },
     "user_tz": -330
    },
    "id": "g9DbRijF4ByK",
    "outputId": "827f7d8c-2e75-4ff8-8ce0-3ca845f3612b"
   },
   "outputs": [
    {
     "data": {
      "text/plain": [
       "<AxesSubplot:xlabel='Ever Renovated'>"
      ]
     },
     "execution_count": 39,
     "metadata": {},
     "output_type": "execute_result"
    },
    {
     "data": {
      "image/png": "[encoded data removed]",
      "text/plain": [
       "<Figure size 432x288 with 1 Axes>"
      ]
     },
     "metadata": {
      "needs_background": "light"
     },
     "output_type": "display_data"
    }
   ],
   "source": [
    "data.groupby('Ever Renovated')['Sale Price'].mean().sort_values().plot(kind = 'bar')"
   ]
  },
  {
   "cell_type": "code",
   "execution_count": 40,
   "metadata": {
    "colab": {
     "base_uri": "https://localhost:8080/",
     "height": 339
    },
    "colab_type": "code",
    "executionInfo": {
     "elapsed": 7433,
     "status": "ok",
     "timestamp": 1592370773611,
     "user": {
      "displayName": "Sharoon Saxena",
      "photoUrl": "https://lh3.googleusercontent.com/a-/AOh14GjyKz9rNCPkHi6QK8TjrjBFlTtaI9ngf0hIwgAl=s64",
      "userId": "01167841530696023488"
     },
     "user_tz": -330
    },
    "id": "FbGthq624ExL",
    "outputId": "c6c18548-62ed-40cb-fbee-977084d70051",
    "scrolled": true
   },
   "outputs": [
    {
     "data": {
      "text/plain": [
       "<AxesSubplot:xlabel='Zipcode'>"
      ]
     },
     "execution_count": 40,
     "metadata": {},
     "output_type": "execute_result"
    },
    {
     "data": {
      "image/png": "[encoded data removed]",
      "text/plain": [
       "<Figure size 432x288 with 1 Axes>"
      ]
     },
     "metadata": {
      "needs_background": "light"
     },
     "output_type": "display_data"
    }
   ],
   "source": [
    "data.groupby('Zipcode',)['Sale Price'].mean().sort_values().plot(kind = 'bar')"
   ]
  },
  {
   "cell_type": "code",
   "execution_count": 41,
   "metadata": {},
   "outputs": [],
   "source": [
    "data.to_csv('Transformed_Housing_Pricing.csv')"
   ]
  }
 ],
 "metadata": {
  "colab": {
   "authorship_tag": "ABX9TyP/3ghUs5miYOMy3WJd3YD/",
   "name": "Linear Regression.ipynb",
   "provenance": []
  },
  "kernelspec": {
   "display_name": "Python 3.10.4 64-bit",
   "language": "python",
   "name": "python3"
  },
  "language_info": {
   "codemirror_mode": {
    "name": "ipython",
    "version": 3
   },
   "file_extension": ".py",
   "mimetype": "text/x-python",
   "name": "python",
   "nbconvert_exporter": "python",
   "pygments_lexer": "ipython3",
   "version": "3.10.4"
  },
  "vscode": {
   "interpreter": {
    "hash": "d6f873124785d9c295661ddfc888e7a8834de939d4952c71bf506cb68460544a"
   }
  }
 },
 "nbformat": 4,
 "nbformat_minor": 1
}
